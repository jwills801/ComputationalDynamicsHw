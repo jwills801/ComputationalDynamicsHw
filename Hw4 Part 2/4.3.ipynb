{
 "cells": [
  {
   "cell_type": "code",
   "execution_count": 19,
   "metadata": {},
   "outputs": [
    {
     "data": {
      "text/latex": [
       "\\begin{equation*}y{\\left(t \\right)}\\end{equation*}"
      ],
      "text/plain": [
       "y(t)"
      ]
     },
     "execution_count": 19,
     "metadata": {},
     "output_type": "execute_result"
    }
   ],
   "source": [
    "using SymPy\n",
    "@syms k1 k2 c1 c2 L₁ L₂ t m g J z₁ z₂ z₃ z₄ u\n",
    "θ = SymFunction(\"θ\")(t)\n",
    "y = SymFunction(\"y\")(t)"
   ]
  },
  {
   "cell_type": "code",
   "execution_count": 20,
   "metadata": {},
   "outputs": [
    {
     "data": {
      "text/latex": [
       "\\begin{equation*}L₂ \\cos{\\left(θ{\\left(t \\right)} \\right)} \\frac{d}{d t} θ{\\left(t \\right)} + \\frac{d}{d t} y{\\left(t \\right)}\\end{equation*}"
      ],
      "text/plain": [
       "             d          d       \n",
       "L₂⋅cos(θ(t))⋅──(θ(t)) + ──(y(t))\n",
       "             dt         dt      "
      ]
     },
     "execution_count": 20,
     "metadata": {},
     "output_type": "execute_result"
    }
   ],
   "source": [
    "y₁ = -L₁*sin(θ) + y  \n",
    "ẏ₁ = diff(y₁,t)\n",
    "y₂ = L₂*sin(θ) + y\n",
    "ẏ₂ = diff(y₂,t)"
   ]
  },
  {
   "cell_type": "code",
   "execution_count": 21,
   "metadata": {},
   "outputs": [
    {
     "data": {
      "text/latex": [
       "\\begin{equation*}c_{1} \\left(- L₁ \\cos{\\left(θ{\\left(t \\right)} \\right)} \\frac{d}{d t} θ{\\left(t \\right)} + \\frac{d}{d t} y{\\left(t \\right)}\\right) + c_{2} \\left(L₂ \\cos{\\left(θ{\\left(t \\right)} \\right)} \\frac{d}{d t} θ{\\left(t \\right)} + \\frac{d}{d t} y{\\left(t \\right)}\\right) + g m + k_{1} \\left(- L₁ \\sin{\\left(θ{\\left(t \\right)} \\right)} + y{\\left(t \\right)}\\right) + k_{2} \\left(L₂ \\sin{\\left(θ{\\left(t \\right)} \\right)} + y{\\left(t \\right)}\\right) + m \\frac{d^{2}}{d t^{2}} y{\\left(t \\right)}\\end{equation*}"
      ],
      "text/plain": [
       "                                                                              \n",
       "   ⎛               d          d       ⎞      ⎛             d          d       \n",
       "c₁⋅⎜- L₁⋅cos(θ(t))⋅──(θ(t)) + ──(y(t))⎟ + c₂⋅⎜L₂⋅cos(θ(t))⋅──(θ(t)) + ──(y(t))\n",
       "   ⎝               dt         dt      ⎠      ⎝             dt         dt      \n",
       "                                                                              \n",
       "\n",
       "                                                                     2      \n",
       "⎞                                                                   d       \n",
       "⎟ + g⋅m + k₁⋅(-L₁⋅sin(θ(t)) + y(t)) + k₂⋅(L₂⋅sin(θ(t)) + y(t)) + m⋅───(y(t))\n",
       "⎠                                                                    2      \n",
       "                                                                   dt       "
      ]
     },
     "execution_count": 21,
     "metadata": {},
     "output_type": "execute_result"
    }
   ],
   "source": [
    "F_eqn = k1*y₁ + c1*ẏ₁ + k2*y₂ + c2*ẏ₂ + m*diff(y,t,t) + m*g"
   ]
  },
  {
   "cell_type": "code",
   "execution_count": 54,
   "metadata": {},
   "outputs": [
    {
     "data": {
      "text/latex": [
       "\\begin{equation*}- J \\frac{d^{2}}{d t^{2}} θ{\\left(t \\right)} + L₁ \\left(c_{1} \\left(- L₁ \\cos{\\left(θ{\\left(t \\right)} \\right)} \\frac{d}{d t} θ{\\left(t \\right)} + \\frac{d}{d t} y{\\left(t \\right)}\\right) + k_{1} \\left(- L₁ \\sin{\\left(θ{\\left(t \\right)} \\right)} + y{\\left(t \\right)}\\right)\\right) \\cos{\\left(θ{\\left(t \\right)} \\right)} - L₂ \\left(c_{2} \\left(L₂ \\cos{\\left(θ{\\left(t \\right)} \\right)} \\frac{d}{d t} θ{\\left(t \\right)} + \\frac{d}{d t} y{\\left(t \\right)}\\right) + k_{2} \\left(L₂ \\sin{\\left(θ{\\left(t \\right)} \\right)} + y{\\left(t \\right)}\\right)\\right) \\cos{\\left(θ{\\left(t \\right)} \\right)}\\end{equation*}"
      ],
      "text/plain": [
       "      2                                                                       \n",
       "     d             ⎛   ⎛               d          d       ⎞                   \n",
       "- J⋅───(θ(t)) + L₁⋅⎜c₁⋅⎜- L₁⋅cos(θ(t))⋅──(θ(t)) + ──(y(t))⎟ + k₁⋅(-L₁⋅sin(θ(t)\n",
       "      2            ⎝   ⎝               dt         dt      ⎠                   \n",
       "    dt                                                                        \n",
       "\n",
       "                                                                              \n",
       "         ⎞                ⎛   ⎛             d          d       ⎞              \n",
       ") + y(t))⎟⋅cos(θ(t)) - L₂⋅⎜c₂⋅⎜L₂⋅cos(θ(t))⋅──(θ(t)) + ──(y(t))⎟ + k₂⋅(L₂⋅sin(\n",
       "         ⎠                ⎝   ⎝             dt         dt      ⎠              \n",
       "                                                                              \n",
       "\n",
       "                        \n",
       "             ⎞          \n",
       "θ(t)) + y(t))⎟⋅cos(θ(t))\n",
       "             ⎠          \n",
       "                        "
      ]
     },
     "execution_count": 54,
     "metadata": {},
     "output_type": "execute_result"
    }
   ],
   "source": [
    "M_eqn = L₁*cos(θ)*(k1*y₁ + c1*ẏ₁) - L₂*cos(θ)*(k2*y₂ + c2*ẏ₂) - J*diff(θ,t,t)"
   ]
  },
  {
   "cell_type": "code",
   "execution_count": 37,
   "metadata": {},
   "outputs": [
    {
     "data": {
      "text/latex": [
       "\\begin{equation*}\\frac{J \\left(\\frac{d}{d t} θ{\\left(t \\right)}\\right)^{2}}{2} + \\frac{m \\left(\\frac{d}{d t} y{\\left(t \\right)}\\right)^{2}}{2}\\end{equation*}"
      ],
      "text/plain": [
       "            2               2\n",
       "  ⎛d       ⎞      ⎛d       ⎞ \n",
       "J⋅⎜──(θ(t))⎟    m⋅⎜──(y(t))⎟ \n",
       "  ⎝dt      ⎠      ⎝dt      ⎠ \n",
       "───────────── + ─────────────\n",
       "      2               2      "
      ]
     },
     "execution_count": 37,
     "metadata": {},
     "output_type": "execute_result"
    }
   ],
   "source": [
    "# Kinetic Energy\n",
    "T = 1//2*m*diff(y,t)^2 + 1//2*J*diff(θ,t)^2"
   ]
  },
  {
   "cell_type": "code",
   "execution_count": 38,
   "metadata": {},
   "outputs": [
    {
     "data": {
      "text/latex": [
       "\\begin{equation*}g m y{\\left(t \\right)} + \\frac{k_{1} \\left(- L₁ \\sin{\\left(θ{\\left(t \\right)} \\right)} + y{\\left(t \\right)}\\right)^{2}}{2} + \\frac{k_{2} \\left(L₂ \\sin{\\left(θ{\\left(t \\right)} \\right)} + y{\\left(t \\right)}\\right)^{2}}{2}\\end{equation*}"
      ],
      "text/plain": [
       "                                    2                           2\n",
       "           k₁⋅(-L₁⋅sin(θ(t)) + y(t))    k₂⋅(L₂⋅sin(θ(t)) + y(t)) \n",
       "g⋅m⋅y(t) + ────────────────────────── + ─────────────────────────\n",
       "                       2                            2            "
      ]
     },
     "execution_count": 38,
     "metadata": {},
     "output_type": "execute_result"
    }
   ],
   "source": [
    "# Potential Energy\n",
    "V = m*g*y + 1//2*k1*y₁^2 + 1//2*k2*y₂^2"
   ]
  },
  {
   "cell_type": "code",
   "execution_count": 51,
   "metadata": {},
   "outputs": [
    {
     "data": {
      "text/latex": [
       "\\begin{equation*}\\frac{c_{1} \\left(- L₁ \\cos{\\left(θ{\\left(t \\right)} \\right)} \\frac{d}{d t} θ{\\left(t \\right)} + \\frac{d}{d t} y{\\left(t \\right)}\\right)^{2}}{2} + \\frac{c_{2} \\left(L₂ \\cos{\\left(θ{\\left(t \\right)} \\right)} \\frac{d}{d t} θ{\\left(t \\right)} + \\frac{d}{d t} y{\\left(t \\right)}\\right)^{2}}{2}\\end{equation*}"
      ],
      "text/plain": [
       "                                       2                                      \n",
       "   ⎛               d          d       ⎞       ⎛             d          d      \n",
       "c₁⋅⎜- L₁⋅cos(θ(t))⋅──(θ(t)) + ──(y(t))⎟    c₂⋅⎜L₂⋅cos(θ(t))⋅──(θ(t)) + ──(y(t)\n",
       "   ⎝               dt         dt      ⎠       ⎝             dt         dt     \n",
       "──────────────────────────────────────── + ───────────────────────────────────\n",
       "                   2                                         2                \n",
       "\n",
       "  2\n",
       " ⎞ \n",
       ")⎟ \n",
       " ⎠ \n",
       "───\n",
       "   "
      ]
     },
     "execution_count": 51,
     "metadata": {},
     "output_type": "execute_result"
    }
   ],
   "source": [
    "# Dissipation Term\n",
    "D = 1//2*c1*ẏ₁^2 + 1//2*c2*ẏ₂^2"
   ]
  },
  {
   "cell_type": "code",
   "execution_count": 40,
   "metadata": {},
   "outputs": [
    {
     "data": {
      "text/latex": [
       "\\begin{equation*}J \\frac{d^{2}}{d t^{2}} θ{\\left(t \\right)} - L₁ c_{1} \\left(- L₁ \\cos{\\left(θ{\\left(t \\right)} \\right)} \\frac{d}{d t} θ{\\left(t \\right)} + \\frac{d}{d t} y{\\left(t \\right)}\\right) \\cos{\\left(θ{\\left(t \\right)} \\right)} - L₁ k_{1} \\left(- L₁ \\sin{\\left(θ{\\left(t \\right)} \\right)} + y{\\left(t \\right)}\\right) \\cos{\\left(θ{\\left(t \\right)} \\right)} + L₂ c_{2} \\left(L₂ \\cos{\\left(θ{\\left(t \\right)} \\right)} \\frac{d}{d t} θ{\\left(t \\right)} + \\frac{d}{d t} y{\\left(t \\right)}\\right) \\cos{\\left(θ{\\left(t \\right)} \\right)} + L₂ k_{2} \\left(L₂ \\sin{\\left(θ{\\left(t \\right)} \\right)} + y{\\left(t \\right)}\\right) \\cos{\\left(θ{\\left(t \\right)} \\right)}\\end{equation*}"
      ],
      "text/plain": [
       "    2                                                                         \n",
       "   d                ⎛               d          d       ⎞                      \n",
       "J⋅───(θ(t)) - L₁⋅c₁⋅⎜- L₁⋅cos(θ(t))⋅──(θ(t)) + ──(y(t))⎟⋅cos(θ(t)) - L₁⋅k₁⋅(-L\n",
       "    2               ⎝               dt         dt      ⎠                      \n",
       "  dt                                                                          \n",
       "\n",
       "                                                                              \n",
       "                                      ⎛             d          d       ⎞      \n",
       "₁⋅sin(θ(t)) + y(t))⋅cos(θ(t)) + L₂⋅c₂⋅⎜L₂⋅cos(θ(t))⋅──(θ(t)) + ──(y(t))⎟⋅cos(θ\n",
       "                                      ⎝             dt         dt      ⎠      \n",
       "                                                                              \n",
       "\n",
       "                                            \n",
       "                                            \n",
       "(t)) + L₂⋅k₂⋅(L₂⋅sin(θ(t)) + y(t))⋅cos(θ(t))\n",
       "                                            \n",
       "                                            "
      ]
     },
     "execution_count": 40,
     "metadata": {},
     "output_type": "execute_result"
    }
   ],
   "source": [
    "L = T - V\n",
    "L_eqn1 = diff(diff(L,diff(θ,t)),t) - diff(L,θ) + diff(D,diff(θ,t))"
   ]
  },
  {
   "cell_type": "code",
   "execution_count": 43,
   "metadata": {},
   "outputs": [
    {
     "data": {
      "text/latex": [
       "\\begin{equation*}- c_{1} \\left(L₁ \\cos{\\left(θ{\\left(t \\right)} \\right)} \\frac{d}{d t} θ{\\left(t \\right)} - \\frac{d}{d t} y{\\left(t \\right)}\\right) + c_{2} \\left(L₂ \\cos{\\left(θ{\\left(t \\right)} \\right)} \\frac{d}{d t} θ{\\left(t \\right)} + \\frac{d}{d t} y{\\left(t \\right)}\\right) + g m - k_{1} \\left(L₁ \\sin{\\left(θ{\\left(t \\right)} \\right)} - y{\\left(t \\right)}\\right) + k_{2} \\left(L₂ \\sin{\\left(θ{\\left(t \\right)} \\right)} + y{\\left(t \\right)}\\right) + m \\frac{d^{2}}{d t^{2}} y{\\left(t \\right)}\\end{equation*}"
      ],
      "text/plain": [
       "                                                                              \n",
       "     ⎛             d          d       ⎞      ⎛             d          d       \n",
       "- c₁⋅⎜L₁⋅cos(θ(t))⋅──(θ(t)) - ──(y(t))⎟ + c₂⋅⎜L₂⋅cos(θ(t))⋅──(θ(t)) + ──(y(t))\n",
       "     ⎝             dt         dt      ⎠      ⎝             dt         dt      \n",
       "                                                                              \n",
       "\n",
       "                                                                    2      \n",
       "⎞                                                                  d       \n",
       "⎟ + g⋅m - k₁⋅(L₁⋅sin(θ(t)) - y(t)) + k₂⋅(L₂⋅sin(θ(t)) + y(t)) + m⋅───(y(t))\n",
       "⎠                                                                   2      \n",
       "                                                                  dt       "
      ]
     },
     "execution_count": 43,
     "metadata": {},
     "output_type": "execute_result"
    }
   ],
   "source": [
    "L_eqn2 = diff(diff(L,diff(y,t)),t) - diff(L,y) + diff(D,diff(y,t)) |> simplify"
   ]
  },
  {
   "cell_type": "code",
   "execution_count": 46,
   "metadata": {},
   "outputs": [
    {
     "data": {
      "text/latex": [
       "\\begin{equation*}g m + k_{1} \\left(- L₁ \\sin{\\left(θ{\\left(t \\right)} \\right)} + y{\\left(t \\right)}\\right) + k_{2} \\left(L₂ \\sin{\\left(θ{\\left(t \\right)} \\right)} + y{\\left(t \\right)}\\right) + m \\frac{d}{d t} 0\\end{equation*}"
      ],
      "text/plain": [
       "                                                               d    \n",
       "g⋅m + k₁⋅(-L₁⋅sin(θ(t)) + y(t)) + k₂⋅(L₂⋅sin(θ(t)) + y(t)) + m⋅──(0)\n",
       "                                                               dt   "
      ]
     },
     "execution_count": 46,
     "metadata": {},
     "output_type": "execute_result"
    }
   ],
   "source": [
    "equilib = Dict(diff(θ,t,t)=>0,diff(θ,t)=>0,diff(y,t,t)=>0,diff(y,t)=>0)\n",
    "Equil_F = F_eqn |> subs(equilib)"
   ]
  },
  {
   "cell_type": "code",
   "execution_count": 29,
   "metadata": {},
   "outputs": [
    {
     "data": {
      "text/latex": [
       "\\begin{equation*}L₁ k_{1} \\left(- L₁ \\sin{\\left(θ{\\left(t \\right)} \\right)} + y{\\left(t \\right)}\\right) - L₂ k_{2} \\left(L₂ \\sin{\\left(θ{\\left(t \\right)} \\right)} + y{\\left(t \\right)}\\right)\\end{equation*}"
      ],
      "text/plain": [
       "L₁⋅k₁⋅(-L₁⋅sin(θ(t)) + y(t)) - L₂⋅k₂⋅(L₂⋅sin(θ(t)) + y(t))"
      ]
     },
     "execution_count": 29,
     "metadata": {},
     "output_type": "execute_result"
    }
   ],
   "source": [
    "Equil_M = M_eqn |> subs(diff(θ,t,t)=>0,diff(θ,t)=>0,diff(y,t,t)=>0,diff(y,t)=>0)"
   ]
  },
  {
   "cell_type": "code",
   "execution_count": 30,
   "metadata": {},
   "outputs": [
    {
     "data": {
      "text/latex": [
       "\\[ \\left[ \\begin{array}{r}g m + k_{1} y{\\left(t \\right)} + k_{2} y{\\left(t \\right)} + m \\frac{d}{d t} 0\\\\L₁ k_{1} y{\\left(t \\right)} - L₂ k_{2} y{\\left(t \\right)}\\end{array} \\right] \\]"
      ],
      "text/plain": [
       "2-element Array{Sym,1}:\n",
       " g*m + k1*y(t) + k2*y(t) + m*Derivative(0, t)\n",
       "                      L₁*k1*y(t) - L₂*k2*y(t)"
      ]
     },
     "execution_count": 30,
     "metadata": {},
     "output_type": "execute_result"
    }
   ],
   "source": [
    "horiz_Equil = [(Equil_F |> subs.(θ=>0)), (Equil_M|> subs.(θ=>0))]"
   ]
  },
  {
   "cell_type": "code",
   "execution_count": 31,
   "metadata": {},
   "outputs": [
    {
     "data": {
      "text/latex": [
       "\\begin{equation*}\\begin{cases}z₁ & \\text{=>} &θ{\\left(t \\right)}\\\\z₄ & \\text{=>} &\\frac{d}{d t} y{\\left(t \\right)}\\\\z₂ & \\text{=>} &y{\\left(t \\right)}\\\\z₃ & \\text{=>} &\\frac{d}{d t} θ{\\left(t \\right)}\\\\\\end{cases}\\end{equation*}"
      ],
      "text/plain": [
       "Dict{Sym,Sym} with 4 entries:\n",
       "  z₁ => θ(t)\n",
       "  z₄ => Derivative(y(t), t)\n",
       "  z₂ => y(t)\n",
       "  z₃ => Derivative(θ(t), t)"
      ]
     },
     "execution_count": 31,
     "metadata": {},
     "output_type": "execute_result"
    }
   ],
   "source": [
    "Linear_Rule = Dict(z₁=>θ , z₂=>y , z₃=>diff(θ,t), z₄=>diff(y,t))"
   ]
  },
  {
   "cell_type": "code",
   "execution_count": 32,
   "metadata": {},
   "outputs": [
    {
     "data": {
      "text/latex": [
       "\\[\\left[ \\begin{array}{r}z₃\\\\z₄\\\\\\frac{- L₁^{2} c_{1} z₃ \\cos{\\left(z₁ \\right)} - L₁^{2} k_{1} \\sin{\\left(z₁ \\right)} + L₁ c_{1} z₄ + L₁ k_{1} z₂ - L₂^{2} c_{2} z₃ \\cos{\\left(z₁ \\right)} - L₂^{2} k_{2} \\sin{\\left(z₁ \\right)} - L₂ c_{2} z₄ - L₂ k_{2} z₂}{J}\\\\\\frac{L₁ c_{1} z₃ \\cos{\\left(z₁ \\right)} + L₁ k_{1} \\sin{\\left(z₁ \\right)} - L₂ c_{2} z₃ \\cos{\\left(z₁ \\right)} - L₂ k_{2} \\sin{\\left(z₁ \\right)} - c_{1} z₄ - c_{2} z₄ - g m - k_{1} z₂ - k_{2} z₂}{m}\\end{array}\\right]\\]"
      ],
      "text/plain": [
       "4×1 Array{Sym,2}:\n",
       "                                                                                                                           z₃\n",
       "                                                                                                                           z₄\n",
       " (-L₁^2*c1*z₃*cos(z₁) - L₁^2*k1*sin(z₁) + L₁*c1*z₄ + L₁*k1*z₂ - L₂^2*c2*z₃*cos(z₁) - L₂^2*k2*sin(z₁) - L₂*c2*z₄ - L₂*k2*z₂)/J\n",
       "                (L₁*c1*z₃*cos(z₁) + L₁*k1*sin(z₁) - L₂*c2*z₃*cos(z₁) - L₂*k2*sin(z₁) - c1*z₄ - c2*z₄ - g*m - k1*z₂ - k2*z₂)/m"
      ]
     },
     "execution_count": 32,
     "metadata": {},
     "output_type": "execute_result"
    }
   ],
   "source": [
    "z = [z₁; z₂; z₃; z₄].subs(Linear_Rule)\n",
    "EOM = solve([F_eqn,M_eqn],[diff(y,t,t),diff(θ,t,t)])\n",
    "ż = diff.(z)\n",
    "Reverse_Linear_Rule = Dict(θ=>z₁ , y=>z₂ , diff(θ,t)=>z₃, diff(y,t)=>z₄)\n",
    "ż = ż.subs(EOM).subs(Reverse_Linear_Rule)"
   ]
  },
  {
   "cell_type": "code",
   "execution_count": 33,
   "metadata": {},
   "outputs": [
    {
     "data": {
      "text/latex": [
       "\\[\\left[ \\begin{array}{rrrr}0&0&1&0\\\\0&0&0&1\\\\\\frac{L₁^{2} c_{1} z₃ \\sin{\\left(z₁ \\right)} - L₁^{2} k_{1} \\cos{\\left(z₁ \\right)} + L₂^{2} c_{2} z₃ \\sin{\\left(z₁ \\right)} - L₂^{2} k_{2} \\cos{\\left(z₁ \\right)}}{J}&\\frac{L₁ k_{1} - L₂ k_{2}}{J}&\\frac{- L₁^{2} c_{1} \\cos{\\left(z₁ \\right)} - L₂^{2} c_{2} \\cos{\\left(z₁ \\right)}}{J}&\\frac{L₁ c_{1} - L₂ c_{2}}{J}\\\\\\frac{- L₁ c_{1} z₃ \\sin{\\left(z₁ \\right)} + L₁ k_{1} \\cos{\\left(z₁ \\right)} + L₂ c_{2} z₃ \\sin{\\left(z₁ \\right)} - L₂ k_{2} \\cos{\\left(z₁ \\right)}}{m}&\\frac{- k_{1} - k_{2}}{m}&\\frac{L₁ c_{1} \\cos{\\left(z₁ \\right)} - L₂ c_{2} \\cos{\\left(z₁ \\right)}}{m}&\\frac{- c_{1} - c_{2}}{m}\\end{array}\\right]\\]"
      ],
      "text/plain": [
       "4×4 Array{Sym,2}:\n",
       "                                                                               0  …                  0\n",
       "                                                                               0                     1\n",
       " (L₁^2*c1*z₃*sin(z₁) - L₁^2*k1*cos(z₁) + L₂^2*c2*z₃*sin(z₁) - L₂^2*k2*cos(z₁))/J     (L₁*c1 - L₂*c2)/J\n",
       "        (-L₁*c1*z₃*sin(z₁) + L₁*k1*cos(z₁) + L₂*c2*z₃*sin(z₁) - L₂*k2*cos(z₁))/m          (-c1 - c2)/m"
      ]
     },
     "execution_count": 33,
     "metadata": {},
     "output_type": "execute_result"
    }
   ],
   "source": [
    "A = fill(k1,(4,4))\n",
    "    for i=1:4\n",
    "        A[i,1] = diff(ż[i],z₁)\n",
    "        A[i,2] = diff(ż[i],z₂)\n",
    "        A[i,3] = diff(ż[i],z₃)\n",
    "        A[i,4] = diff(ż[i],z₄)\n",
    "    end\n",
    "A"
   ]
  },
  {
   "cell_type": "code",
   "execution_count": 34,
   "metadata": {},
   "outputs": [
    {
     "data": {
      "text/latex": [
       "\\[\\left[ \\begin{array}{r}0\\\\0\\\\0\\\\0\\end{array}\\right]\\]"
      ],
      "text/plain": [
       "4×1 Array{Sym,2}:\n",
       " 0\n",
       " 0\n",
       " 0\n",
       " 0"
      ]
     },
     "execution_count": 34,
     "metadata": {},
     "output_type": "execute_result"
    }
   ],
   "source": [
    "B = fill(k1,(4,1))\n",
    "    for i = 1:4\n",
    "        B[i] = diff(ż[i],u)\n",
    "    end\n",
    "B"
   ]
  },
  {
   "cell_type": "code",
   "execution_count": null,
   "metadata": {},
   "outputs": [],
   "source": []
  },
  {
   "cell_type": "code",
   "execution_count": null,
   "metadata": {},
   "outputs": [],
   "source": []
  },
  {
   "cell_type": "code",
   "execution_count": null,
   "metadata": {},
   "outputs": [],
   "source": []
  }
 ],
 "metadata": {
  "kernelspec": {
   "display_name": "Julia 1.3.0",
   "language": "julia",
   "name": "julia-1.3"
  },
  "language_info": {
   "file_extension": ".jl",
   "mimetype": "application/julia",
   "name": "julia",
   "version": "1.3.0"
  }
 },
 "nbformat": 4,
 "nbformat_minor": 4
}
